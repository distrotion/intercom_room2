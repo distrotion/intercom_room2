{
 "cells": [
  {
   "cell_type": "code",
   "execution_count": null,
   "id": "c860f3fd",
   "metadata": {},
   "outputs": [],
   "source": [
    "import sys\n",
    "from OpenGL.GL import *\n",
    "from OpenGL.GLU import *\n",
    "from OpenGL.GLUT import *\n",
    "from math import pi, sin, cos, tan\n",
    "\n",
    "\n",
    "def display():\n",
    "    #     Clear color\n",
    "    glClearColor(1,1,0.5,1)\n",
    "    glClear(GL_COLOR_BUFFER_BIT)\n",
    "    #     Draw square\n",
    "    glBegin(GL_QUADS)\n",
    "    glColor3f(0,1,1)\n",
    "    glVertex2f( 0.5,-0.5) \n",
    "    glVertex2f(-0.5,-0.5)\n",
    "    glVertex2f(-0.5, 0.5)\n",
    "    glVertex2f( 0.5, 0.5)\n",
    "    glEnd()\n",
    "    glFlush()\n",
    "    #     Draw circle \n",
    "    posx, posy = 0,0    \n",
    "    sides = 50\n",
    "    radius = 0.5\n",
    "    glBegin(GL_POLYGON)\n",
    "    glColor3f(0,128,0)\n",
    "    for i in range(360):    \n",
    "        cosine= radius * cos(i*2*pi/sides) + posx    \n",
    "        sine  = radius * sin(i*2*pi/sides) + posy    \n",
    "        glVertex2f(cosine,sine)\n",
    "    glEnd()\n",
    "    glFlush()\n",
    "    \n",
    "def main():\n",
    "    Title = \"Team Tank (H/W Week 2)\"\n",
    "    glutInit(sys.argv)\n",
    "    glutInitDisplayMode(GLUT_RGBA | GLUT_SINGLE)\n",
    "    glutInitWindowSize(800,600)\n",
    "    glutCreateWindow(Title)    \n",
    "    glutDisplayFunc(display)\n",
    "    glutMainLoop()\n",
    "\n",
    "if __name__ == \"__main__\":\n",
    "\n",
    "    main()"
   ]
  }
 ],
 "metadata": {
  "kernelspec": {
   "display_name": "Python 3",
   "language": "python",
   "name": "python3"
  },
  "language_info": {
   "codemirror_mode": {
    "name": "ipython",
    "version": 3
   },
   "file_extension": ".py",
   "mimetype": "text/x-python",
   "name": "python",
   "nbconvert_exporter": "python",
   "pygments_lexer": "ipython3",
   "version": "3.8.8"
  }
 },
 "nbformat": 4,
 "nbformat_minor": 5
}
